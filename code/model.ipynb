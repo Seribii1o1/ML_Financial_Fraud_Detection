{
 "cells": [
  {
   "cell_type": "code",
   "execution_count": 19,
   "metadata": {},
   "outputs": [],
   "source": [
    "import pandas as pd\n",
    "from sklearn.model_selection import train_test_split, GridSearchCV, RandomizedSearchCV\n",
    "from sklearn.linear_model import LogisticRegression\n",
    "from sklearn.naive_bayes import GaussianNB\n",
    "from sklearn.neighbors import KNeighborsClassifier\n",
    "from sklearn import svm\n",
    "from sklearn.svm import SVC\n",
    "from sklearn.metrics import f1_score, classification_report, accuracy_score\n",
    "from sklearn.preprocessing import StandardScaler, OneHotEncoder\n",
    "from sklearn.compose import ColumnTransformer\n",
    "from sklearn.pipeline import Pipeline\n",
    "import numpy as np"
   ]
  },
  {
   "cell_type": "code",
   "execution_count": 3,
   "metadata": {},
   "outputs": [
    {
     "data": {
      "text/html": [
       "<div>\n",
       "<style scoped>\n",
       "    .dataframe tbody tr th:only-of-type {\n",
       "        vertical-align: middle;\n",
       "    }\n",
       "\n",
       "    .dataframe tbody tr th {\n",
       "        vertical-align: top;\n",
       "    }\n",
       "\n",
       "    .dataframe thead th {\n",
       "        text-align: right;\n",
       "    }\n",
       "</style>\n",
       "<table border=\"1\" class=\"dataframe\">\n",
       "  <thead>\n",
       "    <tr style=\"text-align: right;\">\n",
       "      <th></th>\n",
       "      <th>step</th>\n",
       "      <th>type</th>\n",
       "      <th>amount</th>\n",
       "      <th>oldbalanceOrg</th>\n",
       "      <th>oldbalanceDest</th>\n",
       "      <th>isFraud</th>\n",
       "    </tr>\n",
       "  </thead>\n",
       "  <tbody>\n",
       "    <tr>\n",
       "      <th>0</th>\n",
       "      <td>1</td>\n",
       "      <td>PAYMENT</td>\n",
       "      <td>9839.64</td>\n",
       "      <td>170136.0</td>\n",
       "      <td>0.0</td>\n",
       "      <td>0</td>\n",
       "    </tr>\n",
       "    <tr>\n",
       "      <th>1</th>\n",
       "      <td>1</td>\n",
       "      <td>PAYMENT</td>\n",
       "      <td>1864.28</td>\n",
       "      <td>21249.0</td>\n",
       "      <td>0.0</td>\n",
       "      <td>0</td>\n",
       "    </tr>\n",
       "    <tr>\n",
       "      <th>2</th>\n",
       "      <td>1</td>\n",
       "      <td>TRANSFER</td>\n",
       "      <td>181.00</td>\n",
       "      <td>181.0</td>\n",
       "      <td>0.0</td>\n",
       "      <td>1</td>\n",
       "    </tr>\n",
       "    <tr>\n",
       "      <th>3</th>\n",
       "      <td>1</td>\n",
       "      <td>CASH_OUT</td>\n",
       "      <td>181.00</td>\n",
       "      <td>181.0</td>\n",
       "      <td>21182.0</td>\n",
       "      <td>1</td>\n",
       "    </tr>\n",
       "    <tr>\n",
       "      <th>4</th>\n",
       "      <td>1</td>\n",
       "      <td>PAYMENT</td>\n",
       "      <td>11668.14</td>\n",
       "      <td>41554.0</td>\n",
       "      <td>0.0</td>\n",
       "      <td>0</td>\n",
       "    </tr>\n",
       "  </tbody>\n",
       "</table>\n",
       "</div>"
      ],
      "text/plain": [
       "   step      type    amount  oldbalanceOrg  oldbalanceDest  isFraud\n",
       "0     1   PAYMENT   9839.64       170136.0             0.0        0\n",
       "1     1   PAYMENT   1864.28        21249.0             0.0        0\n",
       "2     1  TRANSFER    181.00          181.0             0.0        1\n",
       "3     1  CASH_OUT    181.00          181.0         21182.0        1\n",
       "4     1   PAYMENT  11668.14        41554.0             0.0        0"
      ]
     },
     "execution_count": 3,
     "metadata": {},
     "output_type": "execute_result"
    }
   ],
   "source": [
    "# Load dataset\n",
    "df = pd.read_csv('/Users/sa26/Documents/GitHub/ML_Financial_Fraud_Detection/data/processed/processed_log.csv')\n",
    "df.head()"
   ]
  },
  {
   "cell_type": "code",
   "execution_count": 4,
   "metadata": {},
   "outputs": [],
   "source": [
    "# Separate features (X) and target (y)\n",
    "X = df.drop(\"isFraud\", axis=1)\n",
    "y = df[\"isFraud\"]"
   ]
  },
  {
   "cell_type": "code",
   "execution_count": 5,
   "metadata": {},
   "outputs": [],
   "source": [
    "# Identify categorical and numerical features\n",
    "categorical_features = [\"type\"]\n",
    "numerical_features = [\"step\", \"amount\", \"oldbalanceOrg\", \"oldbalanceDest\"]"
   ]
  },
  {
   "cell_type": "code",
   "execution_count": 6,
   "metadata": {},
   "outputs": [],
   "source": [
    "# Create preprocessing pipelines for numerical and categorical features\n",
    "numerical_transformer = StandardScaler()\n",
    "categorical_transformer = OneHotEncoder(handle_unknown='ignore')"
   ]
  },
  {
   "cell_type": "code",
   "execution_count": 7,
   "metadata": {},
   "outputs": [],
   "source": [
    "# Combine preprocessing steps using ColumnTransformer\n",
    "preprocessor = ColumnTransformer(\n",
    "    transformers=[\n",
    "        ('num', numerical_transformer, numerical_features),\n",
    "        ('cat', categorical_transformer, categorical_features)])"
   ]
  },
  {
   "cell_type": "code",
   "execution_count": 16,
   "metadata": {},
   "outputs": [],
   "source": [
    "# Split data into training and testing sets\n",
    "X_train, X_test, y_train, y_test = train_test_split(X, y, test_size=0.2, random_state=42, stratify=y)"
   ]
  },
  {
   "cell_type": "code",
   "execution_count": 17,
   "metadata": {},
   "outputs": [],
   "source": [
    "# Apply preprocessing to training and testing data\n",
    "X_train_processed = preprocessor.fit_transform(X_train)\n",
    "X_test_processed = preprocessor.transform(X_test)"
   ]
  },
  {
   "cell_type": "code",
   "execution_count": 18,
   "metadata": {},
   "outputs": [],
   "source": [
    "# Convert processed data back to DataFrames (helpful for inspection)\n",
    "X_train_processed_df = pd.DataFrame(X_train_processed, columns=preprocessor.get_feature_names_out())\n",
    "X_test_processed_df = pd.DataFrame(X_test_processed, columns=preprocessor.get_feature_names_out())"
   ]
  },
  {
   "cell_type": "markdown",
   "metadata": {},
   "source": [
    "Initial Classifiers Training and Evaluation"
   ]
  },
  {
   "cell_type": "code",
   "execution_count": 10,
   "metadata": {},
   "outputs": [
    {
     "name": "stdout",
     "output_type": "stream",
     "text": [
      "Initial Logistic Regression F1 Score: 0.9982\n",
      "Initial Logistic Regression Classification Report:\n",
      "              precision    recall  f1-score   support\n",
      "\n",
      "           0       1.00      1.00      1.00   1270881\n",
      "           1       0.93      0.05      0.10      1643\n",
      "\n",
      "    accuracy                           1.00   1272524\n",
      "   macro avg       0.97      0.53      0.55   1272524\n",
      "weighted avg       1.00      1.00      1.00   1272524\n",
      "\n"
     ]
    }
   ],
   "source": [
    "# Logistic Regression\n",
    "lr = LogisticRegression(random_state=42)\n",
    "lr.fit(X_train_processed, y_train)\n",
    "y_pred_lr = lr.predict(X_test_processed)\n",
    "f1_lr_initial = f1_score(y_test, y_pred_lr, average='weighted')\n",
    "print(f\"Initial Logistic Regression F1 Score: {f1_lr_initial:.4f}\")\n",
    "print(f\"Initial Logistic Regression Classification Report:\\n{classification_report(y_test, y_pred_lr)}\")"
   ]
  },
  {
   "cell_type": "code",
   "execution_count": 11,
   "metadata": {},
   "outputs": [
    {
     "name": "stdout",
     "output_type": "stream",
     "text": [
      "Initial Naive Bayes F1 Score: 0.7216\n",
      "Initial Naive Bayes Classification Report:\n",
      "              precision    recall  f1-score   support\n",
      "\n",
      "           0       1.00      0.57      0.72   1270881\n",
      "           1       0.00      1.00      0.01      1643\n",
      "\n",
      "    accuracy                           0.57   1272524\n",
      "   macro avg       0.50      0.78      0.36   1272524\n",
      "weighted avg       1.00      0.57      0.72   1272524\n",
      "\n"
     ]
    }
   ],
   "source": [
    "# Naive Bayes\n",
    "nb = GaussianNB()\n",
    "nb.fit(X_train_processed, y_train)\n",
    "y_pred_nb = nb.predict(X_test_processed)\n",
    "f1_nb_initial = f1_score(y_test, y_pred_nb, average='weighted')\n",
    "print(f\"Initial Naive Bayes F1 Score: {f1_nb_initial:.4f}\")\n",
    "print(f\"Initial Naive Bayes Classification Report:\\n{classification_report(y_test, y_pred_nb)}\")"
   ]
  },
  {
   "cell_type": "code",
   "execution_count": 11,
   "metadata": {},
   "outputs": [
    {
     "name": "stdout",
     "output_type": "stream",
     "text": [
      "Initial kNN F1 Score: 0.9993\n",
      "Initial kNN Classification Report:\n",
      "              precision    recall  f1-score   support\n",
      "\n",
      "           0       1.00      1.00      1.00   1270881\n",
      "           1       0.88      0.55      0.68      1643\n",
      "\n",
      "    accuracy                           1.00   1272524\n",
      "   macro avg       0.94      0.78      0.84   1272524\n",
      "weighted avg       1.00      1.00      1.00   1272524\n",
      "\n"
     ]
    }
   ],
   "source": [
    "# k-Nearest Neighbors\n",
    "knn = KNeighborsClassifier()\n",
    "knn.fit(X_train_processed, y_train)\n",
    "y_pred_knn = knn.predict(X_test_processed)\n",
    "f1_knn_initial = f1_score(y_test, y_pred_knn, average='weighted')\n",
    "print(f\"Initial kNN F1 Score: {f1_knn_initial:.4f}\")\n",
    "print(f\"Initial kNN Classification Report:\\n{classification_report(y_test, y_pred_knn)}\")"
   ]
  },
  {
   "cell_type": "markdown",
   "metadata": {},
   "source": [
    "Attempted SVM, but was not suitable for large dataset because of its long training time"
   ]
  },
  {
   "cell_type": "markdown",
   "metadata": {},
   "source": [
    "Hyperparameter Tuning (Focus on RandomizedSearchCV due to speed)"
   ]
  },
  {
   "cell_type": "code",
   "execution_count": 13,
   "metadata": {},
   "outputs": [
    {
     "name": "stdout",
     "output_type": "stream",
     "text": [
      "Best Hyperparameters (RandomizedSearchCV) for Logistic Regression: {'solver': 'liblinear', 'penalty': 'l2', 'C': 1000.0}\n"
     ]
    }
   ],
   "source": [
    "# Logistic Regression\n",
    "\n",
    "param_distributions_lr = {'C': np.logspace(-3, 3, 20), 'penalty': ['l1', 'l2'], 'solver': ['liblinear']}\n",
    "random_search_lr = RandomizedSearchCV(LogisticRegression(random_state=42), param_distributions_lr, n_iter=10, cv=5, scoring='f1_weighted', random_state=42)\n",
    "random_search_lr.fit(X_train_processed, y_train)\n",
    "best_lr_random = random_search_lr.best_estimator_\n",
    "print(f\"Best Hyperparameters (RandomizedSearchCV) for Logistic Regression: {random_search_lr.best_params_}\")"
   ]
  },
  {
   "cell_type": "code",
   "execution_count": 12,
   "metadata": {},
   "outputs": [
    {
     "name": "stderr",
     "output_type": "stream",
     "text": [
      "/opt/anaconda3/lib/python3.12/site-packages/numpy/ma/core.py:2820: RuntimeWarning: invalid value encountered in cast\n",
      "  _data = np.array(data, dtype=dtype, copy=copy,\n"
     ]
    },
    {
     "name": "stdout",
     "output_type": "stream",
     "text": [
      "Best kNN params: {'weights': 'distance', 'n_neighbors': 5, 'metric': 'manhattan'}\n"
     ]
    }
   ],
   "source": [
    "# kNN\n",
    "knn_params = {\n",
    "    'n_neighbors': list(range(1, 21)),\n",
    "    'weights': ['uniform', 'distance'],\n",
    "    'metric': ['euclidean', 'manhattan']\n",
    "}\n",
    "\n",
    "knn_search = RandomizedSearchCV(\n",
    "    KNeighborsClassifier(),\n",
    "    knn_params,\n",
    "    n_iter=15,\n",
    "    cv=3,\n",
    "    scoring='f1_weighted',\n",
    "    random_state=42,\n",
    "    n_jobs=-1  # Use all available processors\n",
    ")\n",
    "\n",
    "knn_search.fit(X_train_processed, y_train)\n",
    "best_knn = knn_search.best_estimator_\n",
    "print(f\"Best kNN params: {knn_search.best_params_}\")"
   ]
  },
  {
   "cell_type": "code",
   "execution_count": 18,
   "metadata": {},
   "outputs": [
    {
     "name": "stdout",
     "output_type": "stream",
     "text": [
      "Best Hyperparameters for Naive Bayes: {'var_smoothing': 1e-05}\n"
     ]
    }
   ],
   "source": [
    "# Naive Bayes\n",
    "\n",
    "param_distributions_nb = {'var_smoothing': np.logspace(-9, -5, 5)}\n",
    "random_search_nb = RandomizedSearchCV(GaussianNB(), param_distributions_nb, n_iter=5, cv=5, scoring='f1_weighted', random_state=42)\n",
    "random_search_nb.fit(X_train_processed, y_train)\n",
    "best_nb = random_search_nb.best_estimator_\n",
    "print(f\"Best Hyperparameters for Naive Bayes: {random_search_nb.best_params_}\")"
   ]
  },
  {
   "cell_type": "markdown",
   "metadata": {},
   "source": [
    "Re-train Models with Optimal Hyperparameters and Evaluate"
   ]
  },
  {
   "cell_type": "code",
   "execution_count": 23,
   "metadata": {},
   "outputs": [
    {
     "name": "stdout",
     "output_type": "stream",
     "text": [
      "Manually Tuned Logistic Regression F1 Score: 0.9986\n",
      "Manually Tuned Logistic Regression Classification Report:\n",
      "              precision    recall  f1-score   support\n",
      "\n",
      "           0       1.00      1.00      1.00   1270881\n",
      "           1       0.81      0.23      0.35      1643\n",
      "\n",
      "    accuracy                           1.00   1272524\n",
      "   macro avg       0.90      0.61      0.68   1272524\n",
      "weighted avg       1.00      1.00      1.00   1272524\n",
      "\n"
     ]
    }
   ],
   "source": [
    "# Create a new Logistic Regression model with the best hyperparameters\n",
    "best_hyperparameters = {'solver': 'liblinear', 'penalty': 'l2', 'C': 1000.0}\n",
    "\n",
    "tuned_lr_model = LogisticRegression(**best_hyperparameters)\n",
    "\n",
    "# Train the new model on your training data\n",
    "tuned_lr_model.fit(X_train_processed, y_train)\n",
    "\n",
    "# Make predictions using the new model\n",
    "y_pred_lr_manual_tuned = tuned_lr_model.predict(X_test_processed)\n",
    "\n",
    "# Evaluate the new model\n",
    "f1_lr_manual_tuned = f1_score(y_test, y_pred_lr_manual_tuned, average='weighted')\n",
    "print(f\"Manually Tuned Logistic Regression F1 Score: {f1_lr_manual_tuned:.4f}\")\n",
    "print(f\"Manually Tuned Logistic Regression Classification Report:\\n{classification_report(y_test, y_pred_lr_manual_tuned)}\")"
   ]
  },
  {
   "cell_type": "code",
   "execution_count": 25,
   "metadata": {},
   "outputs": [
    {
     "name": "stdout",
     "output_type": "stream",
     "text": [
      "Manually Tuned Naive Bayes F1 Score: 0.7216\n",
      "Manually Tuned Naive Bayes Classification Report:\n",
      "              precision    recall  f1-score   support\n",
      "\n",
      "           0       1.00      0.57      0.72   1270881\n",
      "           1       0.00      1.00      0.01      1643\n",
      "\n",
      "    accuracy                           0.57   1272524\n",
      "   macro avg       0.50      0.78      0.36   1272524\n",
      "weighted avg       1.00      0.57      0.72   1272524\n",
      "\n"
     ]
    }
   ],
   "source": [
    "# Naive Bayes (Manually set the best hyperparameter)\n",
    "\n",
    "tuned_nb = GaussianNB(var_smoothing=1e-05)\n",
    "\n",
    "# Fit the model with the tuned hyperparameter\n",
    "tuned_nb.fit(X_train_processed, y_train)\n",
    "\n",
    "# Make predictions using the tuned model\n",
    "y_pred_nb_tuned_manual = tuned_nb.predict(X_test_processed)\n",
    "\n",
    "# Evaluate the performance of the manually tuned model\n",
    "f1_nb_tuned_manual = f1_score(y_test, y_pred_nb_tuned_manual, average='weighted')\n",
    "print(f\"Manually Tuned Naive Bayes F1 Score: {f1_nb_tuned_manual:.4f}\")\n",
    "print(f\"Manually Tuned Naive Bayes Classification Report:\\n{classification_report(y_test, y_pred_nb_tuned_manual)}\")"
   ]
  },
  {
   "cell_type": "markdown",
   "metadata": {},
   "source": [
    "No change between initial and tuned Naive Bayes"
   ]
  },
  {
   "cell_type": "code",
   "execution_count": 26,
   "metadata": {},
   "outputs": [
    {
     "name": "stdout",
     "output_type": "stream",
     "text": [
      "Tuned kNN F1 Score: 0.9993\n",
      "Tuned kNN Classification Report:\n",
      "              precision    recall  f1-score   support\n",
      "\n",
      "           0       1.00      1.00      1.00   1270881\n",
      "           1       0.90      0.61      0.72      1643\n",
      "\n",
      "    accuracy                           1.00   1272524\n",
      "   macro avg       0.95      0.80      0.86   1272524\n",
      "weighted avg       1.00      1.00      1.00   1272524\n",
      "\n"
     ]
    }
   ],
   "source": [
    "# kNN\n",
    "best_knn.fit(X_train_processed, y_train)\n",
    "y_pred_knn_tuned = best_knn.predict(X_test_processed)\n",
    "f1_knn_tuned = f1_score(y_test, y_pred_knn_tuned, average='weighted')\n",
    "print(f\"Tuned kNN F1 Score: {f1_knn_tuned:.4f}\")\n",
    "print(f\"Tuned kNN Classification Report:\\n{classification_report(y_test, y_pred_knn_tuned)}\")"
   ]
  }
 ],
 "metadata": {
  "kernelspec": {
   "display_name": "base",
   "language": "python",
   "name": "python3"
  },
  "language_info": {
   "codemirror_mode": {
    "name": "ipython",
    "version": 3
   },
   "file_extension": ".py",
   "mimetype": "text/x-python",
   "name": "python",
   "nbconvert_exporter": "python",
   "pygments_lexer": "ipython3",
   "version": "3.12.7"
  }
 },
 "nbformat": 4,
 "nbformat_minor": 2
}
